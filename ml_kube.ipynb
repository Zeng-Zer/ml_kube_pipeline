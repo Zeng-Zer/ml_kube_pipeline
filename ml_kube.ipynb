{
 "cells": [
  {
   "cell_type": "code",
   "execution_count": 96,
   "metadata": {},
   "outputs": [],
   "source": [
    "import kfp\n",
    "from kfp import dsl"
   ]
  },
  {
   "cell_type": "code",
   "execution_count": 97,
   "metadata": {},
   "outputs": [],
   "source": [
    "def setup_volume_op():\n",
    "    return dsl.VolumeOp(\n",
    "        name=\"Creation of Volume\",\n",
    "        resource_name=\"dataset_pvc\",\n",
    "        modes=dsl.VOLUME_MODE_RWO,\n",
    "        size=\"1Gi\"\n",
    "    )"
   ]
  },
  {
   "cell_type": "code",
   "execution_count": 98,
   "metadata": {},
   "outputs": [],
   "source": [
    "def download_dataset_op(url, volume):\n",
    "    return dsl.ContainerOp(\n",
    "        name='Download Dataset',\n",
    "        image='google/cloud-sdk:272.0.0',\n",
    "        command=['sh', '-c'],\n",
    "        arguments=['gsutil cat $0 | tee $1', url, '/mnt/dataset.csv'],\n",
    "        pvolumes={\"/mnt\": volume}\n",
    "    )    "
   ]
  },
  {
   "cell_type": "code",
   "execution_count": 99,
   "metadata": {},
   "outputs": [],
   "source": [
    "def echo_op(volume):\n",
    "    return dsl.ContainerOp(\n",
    "        name='echo',\n",
    "        image='library/bash:4.4.23',\n",
    "        command=['sh', '-c'],\n",
    "        arguments=['cat /mnt/dataset.csv'],\n",
    "        pvolumes={\"/mnt\": volume}\n",
    "    )"
   ]
  },
  {
   "cell_type": "code",
   "execution_count": 100,
   "metadata": {},
   "outputs": [],
   "source": [
    "@dsl.pipeline(\n",
    "    name='Sequential pipeline',\n",
    "    description='A pipeline with two sequential steps.'\n",
    ")\n",
    "def sequential_pipeline(url='gs://ml_kube_bucket/kc_house_data.csv'):\n",
    "    \"\"\"A pipeline with two sequential steps.\"\"\"\n",
    "    volume_task = setup_volume_op()\n",
    "    dataset_task = download_dataset_op(url, volume_task.volume)\n",
    "    echo_task = echo_op(dataset_task.pvolume)"
   ]
  },
  {
   "cell_type": "code",
   "execution_count": 101,
   "metadata": {},
   "outputs": [],
   "source": [
    "if __name__ == '__main__':\n",
    "    kfp.compiler.Compiler().compile(sequential_pipeline, 'ml_kube.yaml')"
   ]
  },
  {
   "cell_type": "code",
   "execution_count": null,
   "metadata": {},
   "outputs": [],
   "source": []
  }
 ],
 "metadata": {
  "kernelspec": {
   "display_name": "Python 3",
   "language": "python",
   "name": "python3"
  },
  "language_info": {
   "codemirror_mode": {
    "name": "ipython",
    "version": 3
   },
   "file_extension": ".py",
   "mimetype": "text/x-python",
   "name": "python",
   "nbconvert_exporter": "python",
   "pygments_lexer": "ipython3",
   "version": "3.6.8"
  }
 },
 "nbformat": 4,
 "nbformat_minor": 4
}
